{
 "cells": [
  {
   "cell_type": "code",
   "execution_count": null,
   "id": "937632c6",
   "metadata": {},
   "outputs": [],
   "source": []
  },
  {
   "cell_type": "code",
   "execution_count": 1,
   "id": "f5a02f98",
   "metadata": {},
   "outputs": [],
   "source": [
    "import numpy as np\n",
    "import pandas as pd\n",
    "import seaborn as sns\n",
    "import matplotlib.pyplot as plt\n",
    "from scipy import stats\n",
    "\n",
    "from tqdm import tqdm as tqdm_botebook\n",
    "plt.style.use('ggplot')\n",
    "%matplotlib inline"
   ]
  },
  {
   "cell_type": "code",
   "execution_count": 2,
   "id": "c73dc226",
   "metadata": {},
   "outputs": [
    {
     "name": "stdout",
     "output_type": "stream",
     "text": [
      "(90189, 5)\n"
     ]
    },
    {
     "data": {
      "text/html": [
       "<div>\n",
       "<style scoped>\n",
       "    .dataframe tbody tr th:only-of-type {\n",
       "        vertical-align: middle;\n",
       "    }\n",
       "\n",
       "    .dataframe tbody tr th {\n",
       "        vertical-align: top;\n",
       "    }\n",
       "\n",
       "    .dataframe thead th {\n",
       "        text-align: right;\n",
       "    }\n",
       "</style>\n",
       "<table border=\"1\" class=\"dataframe\">\n",
       "  <thead>\n",
       "    <tr style=\"text-align: right;\">\n",
       "      <th></th>\n",
       "      <th>userid</th>\n",
       "      <th>version</th>\n",
       "      <th>sum_gamerounds</th>\n",
       "      <th>retention_1</th>\n",
       "      <th>retention_7</th>\n",
       "    </tr>\n",
       "  </thead>\n",
       "  <tbody>\n",
       "    <tr>\n",
       "      <th>0</th>\n",
       "      <td>116</td>\n",
       "      <td>gate_30</td>\n",
       "      <td>3</td>\n",
       "      <td>False</td>\n",
       "      <td>False</td>\n",
       "    </tr>\n",
       "    <tr>\n",
       "      <th>1</th>\n",
       "      <td>337</td>\n",
       "      <td>gate_30</td>\n",
       "      <td>38</td>\n",
       "      <td>True</td>\n",
       "      <td>False</td>\n",
       "    </tr>\n",
       "    <tr>\n",
       "      <th>2</th>\n",
       "      <td>377</td>\n",
       "      <td>gate_40</td>\n",
       "      <td>165</td>\n",
       "      <td>True</td>\n",
       "      <td>False</td>\n",
       "    </tr>\n",
       "    <tr>\n",
       "      <th>3</th>\n",
       "      <td>483</td>\n",
       "      <td>gate_40</td>\n",
       "      <td>1</td>\n",
       "      <td>False</td>\n",
       "      <td>False</td>\n",
       "    </tr>\n",
       "    <tr>\n",
       "      <th>4</th>\n",
       "      <td>488</td>\n",
       "      <td>gate_40</td>\n",
       "      <td>179</td>\n",
       "      <td>True</td>\n",
       "      <td>True</td>\n",
       "    </tr>\n",
       "  </tbody>\n",
       "</table>\n",
       "</div>"
      ],
      "text/plain": [
       "   userid  version  sum_gamerounds  retention_1  retention_7\n",
       "0     116  gate_30               3        False        False\n",
       "1     337  gate_30              38         True        False\n",
       "2     377  gate_40             165         True        False\n",
       "3     483  gate_40               1        False        False\n",
       "4     488  gate_40             179         True         True"
      ]
     },
     "execution_count": 2,
     "metadata": {},
     "output_type": "execute_result"
    }
   ],
   "source": [
    "df = pd.read_csv('cookie_cats.csv')\n",
    "print(df.shape)\n",
    "df.head()"
   ]
  },
  {
   "cell_type": "code",
   "execution_count": 3,
   "id": "15aa835d",
   "metadata": {},
   "outputs": [
    {
     "data": {
      "text/plain": [
       "version\n",
       "gate_30    44700\n",
       "gate_40    45489\n",
       "Name: userid, dtype: int64"
      ]
     },
     "execution_count": 3,
     "metadata": {},
     "output_type": "execute_result"
    }
   ],
   "source": [
    "# Проверим, сколько пользователей играли в две версии\n",
    "\n",
    "df.groupby('version')['userid'].count()"
   ]
  },
  {
   "cell_type": "code",
   "execution_count": 4,
   "id": "807f1d67",
   "metadata": {},
   "outputs": [
    {
     "data": {
      "text/plain": [
       "Text(0, 0.5, 'Число игроков')"
      ]
     },
     "execution_count": 4,
     "metadata": {},
     "output_type": "execute_result"
    },
    {
     "data": {
      "image/png": "[encoded data removed]",
      "text/plain": [
       "<Figure size 640x480 with 1 Axes>"
      ]
     },
     "metadata": {},
     "output_type": "display_data"
    }
   ],
   "source": [
    "# Проделаем подобную операцию  для sum_gamerounds\n",
    "\n",
    "plot_df = df.groupby('sum_gamerounds')['userid'].count()\n",
    "\n",
    "ax = plot_df.head(100).plot()\n",
    "\n",
    "ax.set_xlabel(\"Число сыгранных раундов\")\n",
    "ax.set_ylabel(\"Число игроков\")"
   ]
  },
  {
   "cell_type": "code",
   "execution_count": 5,
   "id": "f1f22373",
   "metadata": {},
   "outputs": [
    {
     "data": {
      "text/plain": [
       "0.4452095044850259"
      ]
     },
     "execution_count": 5,
     "metadata": {},
     "output_type": "execute_result"
    }
   ],
   "source": [
    "# Посмотрим на удержание игроков первого дня.\n",
    "\n",
    "df.retention_1.mean()"
   ]
  },
  {
   "cell_type": "code",
   "execution_count": 6,
   "id": "c537c4c9",
   "metadata": {},
   "outputs": [
    {
     "data": {
      "text/plain": [
       "version\n",
       "gate_30    0.448188\n",
       "gate_40    0.442283\n",
       "Name: retention_1, dtype: float64"
      ]
     },
     "execution_count": 6,
     "metadata": {},
     "output_type": "execute_result"
    }
   ],
   "source": [
    "# И по группам\n",
    "\n",
    "df.groupby('version').retention_1.mean()"
   ]
  },
  {
   "cell_type": "code",
   "execution_count": 11,
   "id": "e056b412",
   "metadata": {},
   "outputs": [
    {
     "data": {
      "text/html": [
       "<div>\n",
       "<style scoped>\n",
       "    .dataframe tbody tr th:only-of-type {\n",
       "        vertical-align: middle;\n",
       "    }\n",
       "\n",
       "    .dataframe tbody tr th {\n",
       "        vertical-align: top;\n",
       "    }\n",
       "\n",
       "    .dataframe thead th {\n",
       "        text-align: right;\n",
       "    }\n",
       "</style>\n",
       "<table border=\"1\" class=\"dataframe\">\n",
       "  <thead>\n",
       "    <tr style=\"text-align: right;\">\n",
       "      <th></th>\n",
       "      <th>sum</th>\n",
       "      <th>count</th>\n",
       "      <th>mean</th>\n",
       "    </tr>\n",
       "    <tr>\n",
       "      <th>version</th>\n",
       "      <th></th>\n",
       "      <th></th>\n",
       "      <th></th>\n",
       "    </tr>\n",
       "  </thead>\n",
       "  <tbody>\n",
       "    <tr>\n",
       "      <th>gate_30</th>\n",
       "      <td>20034</td>\n",
       "      <td>44700</td>\n",
       "      <td>0.448188</td>\n",
       "    </tr>\n",
       "    <tr>\n",
       "      <th>gate_40</th>\n",
       "      <td>20119</td>\n",
       "      <td>45489</td>\n",
       "      <td>0.442283</td>\n",
       "    </tr>\n",
       "  </tbody>\n",
       "</table>\n",
       "</div>"
      ],
      "text/plain": [
       "           sum  count      mean\n",
       "version                        \n",
       "gate_30  20034  44700  0.448188\n",
       "gate_40  20119  45489  0.442283"
      ]
     },
     "execution_count": 11,
     "metadata": {},
     "output_type": "execute_result"
    }
   ],
   "source": [
    "from statsmodels.stats.proportion import proportions_ztest\n",
    "\n",
    "# Уровень значимости 5%\n",
    "\n",
    "alpha = 0.05\n",
    "\n",
    "df_agg = df.groupby('version').retention_1.agg(['sum', 'count', 'mean'])\n",
    "df_agg\n"
   ]
  },
  {
   "cell_type": "code",
   "execution_count": 12,
   "id": "bc369db1",
   "metadata": {},
   "outputs": [
    {
     "name": "stdout",
     "output_type": "stream",
     "text": [
      "Наблюдаемое значение статистики: 1.78\n",
      "P-значение: 0.0372\n"
     ]
    }
   ],
   "source": [
    "n_obs = df_agg['count'].values   # Размеры выборок\n",
    "m_obs = df_agg['sum'].values   # Число успехов\n",
    "p_obs = df_agg['mean'].values   # доли\n",
    "\n",
    "z_obs, p_val = proportions_ztest(m_obs, n_obs, value=0, alternative='larger')\n",
    "\n",
    "print(f\"Наблюдаемое значение статистики: {z_obs:.3}\")\n",
    "print(f\"P-значение: {p_val:.3}\")"
   ]
  },
  {
   "cell_type": "code",
   "execution_count": null,
   "id": "d0cfa10b",
   "metadata": {},
   "outputs": [],
   "source": [
    "'''\n",
    "Гипотеза о равенстве долей отвергается на alpha = 0,05\n",
    "Посмотрим на оценку мойности этого эксперимента.\n",
    "'''"
   ]
  },
  {
   "cell_type": "code",
   "execution_count": 15,
   "id": "01830deb",
   "metadata": {},
   "outputs": [
    {
     "data": {
      "text/plain": [
       "0.01188210610259806"
      ]
     },
     "execution_count": 15,
     "metadata": {},
     "output_type": "execute_result"
    }
   ],
   "source": [
    "n_30, n_40 = n_obs   # Размеры выборок\n",
    "p_30, p_40 = p_obs   # Доли\n",
    "\n",
    "# Дисперсии\n",
    "var_40, var_30 = p_40 * (1 - p_40), p_30 * (1 - p_30)\n",
    "\n",
    "# вычисляем стандартизированный размер эффекта\n",
    "effect = (p_30 - p_40) / ((n_40*np.sqrt(var_40) + n_30*np.sqrt(var_30)) / (n_30 + n_40))\n",
    "effect"
   ]
  },
  {
   "cell_type": "code",
   "execution_count": 17,
   "id": "2ee2ce02",
   "metadata": {},
   "outputs": [
    {
     "data": {
      "text/plain": [
       "1.0176510067114093"
      ]
     },
     "execution_count": 17,
     "metadata": {},
     "output_type": "execute_result"
    }
   ],
   "source": [
    "n_obs[1]/n_obs[0]"
   ]
  },
  {
   "cell_type": "code",
   "execution_count": 20,
   "id": "124e4062",
   "metadata": {},
   "outputs": [
    {
     "data": {
      "text/plain": [
       "0.8131005106557109"
      ]
     },
     "execution_count": 20,
     "metadata": {},
     "output_type": "execute_result"
    }
   ],
   "source": [
    "from statsmodels.stats.power import zt_ind_solve_power\n",
    "\n",
    "zt_ind_solve_power(\n",
    "    effect_size=effect,\n",
    "    nobs1=sum(n_obs),\n",
    "    alpha=0.05,\n",
    "    power=None,\n",
    "    ratio=n_obs[1]/n_obs[0],\n",
    "    alternative='larger'\n",
    ")"
   ]
  },
  {
   "cell_type": "code",
   "execution_count": null,
   "id": "1bda7e14",
   "metadata": {},
   "outputs": [],
   "source": [
    "'''\n",
    "Мощность теста соответствует стандартной 0.8\n",
    "'''"
   ]
  },
  {
   "cell_type": "code",
   "execution_count": null,
   "id": "f203f19a",
   "metadata": {},
   "outputs": [],
   "source": [
    "'''\n",
    "Удержание 7-го дня\n",
    "'''"
   ]
  },
  {
   "cell_type": "code",
   "execution_count": 21,
   "id": "b1a86f97",
   "metadata": {},
   "outputs": [
    {
     "data": {
      "text/plain": [
       "version\n",
       "gate_30    0.190201\n",
       "gate_40    0.182000\n",
       "Name: retention_7, dtype: float64"
      ]
     },
     "execution_count": 21,
     "metadata": {},
     "output_type": "execute_result"
    }
   ],
   "source": [
    "df.groupby('version').retention_7.mean()"
   ]
  },
  {
   "cell_type": "code",
   "execution_count": 22,
   "id": "06a679a6",
   "metadata": {},
   "outputs": [
    {
     "name": "stdout",
     "output_type": "stream",
     "text": [
      "Наблюдаемое значение статистики: 3.16\n",
      "P-значение: 0.000777\n"
     ]
    }
   ],
   "source": [
    "# Снова выполним код для retention_7\n",
    "\n",
    "from statsmodels.stats.proportion import proportions_ztest\n",
    "\n",
    "alpha = 0.05\n",
    "\n",
    "df_agg = df.groupby('version').retention_7.agg(['sum', 'count', 'mean'])\n",
    "\n",
    "n_obs = df_agg['count'].values\n",
    "m_obs = df_agg['sum'].values\n",
    "p_obs = df_agg['mean'].values\n",
    "\n",
    "z_obs, p_val = proportions_ztest(m_obs, n_obs, value=0, alternative='larger')\n",
    "\n",
    "print(f\"Наблюдаемое значение статистики: {z_obs:.3}\")\n",
    "print(f\"P-значение: {p_val:.3}\")"
   ]
  },
  {
   "cell_type": "code",
   "execution_count": null,
   "id": "67a48efb",
   "metadata": {},
   "outputs": [],
   "source": [
    "'''\n",
    "Для семидневного удержания произойдет довольно мощный обвал\n",
    "'''"
   ]
  },
  {
   "cell_type": "code",
   "execution_count": null,
   "id": "0192b0bc",
   "metadata": {},
   "outputs": [],
   "source": [
    "'''\n",
    "Вывод: сдвиг порот на 40 уровень вызывает увеличениеи оттока пользователей.\n",
    "'''"
   ]
  },
  {
   "cell_type": "code",
   "execution_count": null,
   "id": "72a3c1b6",
   "metadata": {},
   "outputs": [],
   "source": [
    "'''\n",
    "В тесте допущена ошибка. \n",
    "Правильнее было бы считать пользователей с 30-го дня, но таких данных нет, \n",
    "а подсчет по раундам игры не вполне соответствует задаче.\n",
    "'''"
   ]
  }
 ],
 "metadata": {
  "kernelspec": {
   "display_name": "Python 3 (ipykernel)",
   "language": "python",
   "name": "python3"
  },
  "language_info": {
   "codemirror_mode": {
    "name": "ipython",
    "version": 3
   },
   "file_extension": ".py",
   "mimetype": "text/x-python",
   "name": "python",
   "nbconvert_exporter": "python",
   "pygments_lexer": "ipython3",
   "version": "3.9.13"
  }
 },
 "nbformat": 4,
 "nbformat_minor": 5
}
